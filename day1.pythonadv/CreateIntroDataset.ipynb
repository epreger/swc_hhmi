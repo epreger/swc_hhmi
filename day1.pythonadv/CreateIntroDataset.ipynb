{
 "metadata": {
  "name": "CreateIntroDataset"
 },
 "nbformat": 3,
 "nbformat_minor": 0,
 "worksheets": [
  {
   "cells": [
    {
     "cell_type": "markdown",
     "metadata": {},
     "source": [
      "This notebook reads the raw olympic athetes file and produce a new data file with a condensed set of information.\n",
      "\n",
      "The original file contains one line per athelete and sport, it'll be a little easier to work with a consolodated number of medals each country earned for each olympic year.\n",
      "\n",
      "The data was obtained from http://www.tableausoftware.com/public/community/sample-data-sets"
     ]
    },
    {
     "cell_type": "code",
     "collapsed": false,
     "input": [
      "import csv    #The csv module includes several useful classes for reading and writing formatted data files\n",
      "\n",
      "medals_data = dict()                                           #Dictionary to accumulate data in\n",
      "for line in csv.DictReader(open(\"olympic_athletes_raw.csv\")):  #We're going to use a dictionary reader which will \n",
      "                                                               #store each column in a dictionary, keyed off the first line\n",
      "    if line[\"Year\"] not in medals_data:  #If we haven't seen any data from this year yet we need to initialize it\n",
      "        medals_data[line[\"Year\"]] = dict()\n",
      "    medals_by_country = medals_data[line[\"Year\"]]    #To avoid having to type 'medals_data[line[\"Year\"]]' every time we want to use it\n",
      "    \n",
      "    if line[\"Country\"] not in medals_by_country:     #Initialize the country values if we haven't seen it yet\n",
      "        medals_by_country[line[\"Country\"]] = dict()\n",
      "        medals_by_country[line[\"Country\"]][\"Year\"] = line[\"Year\"]       #These two just make it easier to use the DictWriter below\n",
      "        medals_by_country[line[\"Country\"]][\"Country\"] = line[\"Country\"]\n",
      "    medals = medals_by_country[line[\"Country\"]]      #For convienent\n",
      "    \n",
      "    #Avoid duplicating code when we want to do the same thing over and over again just with a different key\n",
      "    for medal in [\"Bronze Medals\", \"Silver Medals\", \"Gold Medals\"]:\n",
      "        medals[medal] = medals.get(medal, 0) + int(line[medal])\n",
      "\n",
      "#Open the output file for writing, tell the DictReader the column order\n",
      "writer = csv.DictWriter(open(\"olympic_medals.csv\", \"w\"), [\"Year\", \"Country\", \"Bronze Medals\", \"Silver Medals\", \"Gold Medals\"])\n",
      "writer.writeheader()    #Make sure we put the header in the new file\n",
      "for year in sorted(medals_data.keys()):\n",
      "    for country in sorted(medals_data[year].keys()):\n",
      "        writer.writerow(medals_data[year][country])\n",
      "\n",
      "        "
     ],
     "language": "python",
     "metadata": {},
     "outputs": [],
     "prompt_number": 11
    },
    {
     "cell_type": "code",
     "collapsed": false,
     "input": [],
     "language": "python",
     "metadata": {},
     "outputs": []
    }
   ],
   "metadata": {}
  }
 ]
}