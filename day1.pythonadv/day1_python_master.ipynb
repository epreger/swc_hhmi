{
 "metadata": {
  "name": "Data_Analysis_Intro"
 },
 "nbformat": 3,
 "nbformat_minor": 0,
 "worksheets": [
  {
   "cells": [
    {
     "cell_type": "markdown",
     "metadata": {},
     "source": [
      "Working with Data in Python\n",
      "============================\n",
      "\n",
      "Goals\n",
      "--------\n",
      "* Using the csv module to read structured data\n",
      "* Using lists, dictionaries, and sets to work with data\n",
      "* Using for-loops to process data\n",
      "* Writing functions\n",
      "* Building complex functions based on simple ones\n",
      "* Brief introduction to classes\n",
      "\n",
      "\n",
      "Dataset\n",
      "---------\n",
      "We'll be working with data for the number of medals won at the Olympic games since 2000.  The data is contained in datasets/olympic_medals.csv and is broken up by year and country.\n",
      "\n",
      "Reading Data\n",
      "--------------\n",
      "We'll be using the 'csv' module to read data, it is one of the easier ways to read structured data from a variety of sources.  Despite the name the csv module can read structured data file with any delimiter (field separators, ',' in the case of csv files) files as well.  Some common delimiters are tab, space, and occasionally |.\n",
      "\n",
      "The readers in the csv package read one line at a time, the basic csv.reader returns a list where as the csv.DictReader returns a dictionary where the keys are the column headers.\n",
      "\n",
      "###Different ways to load data\n",
      "* From the directory we started ipython using `open(\"filename\")`\n",
      "  * We can see the current working directory by using `!pwd`\n",
      "  * We can see the contents of our current directory by using the `!ls` (on windows use `dir`) command\n",
      "  * In IPython we can use shell commands by prefixing them with an !\n",
      "* Directly from a website with urllib2\n",
      "* From somewhere else on the computer\n",
      "  * we'd have to specify the path like `open(\"path/to/file\")`"
     ]
    },
    {
     "cell_type": "code",
     "collapsed": false,
     "input": [
      "import urllib2 #For reading from URLs\n",
      "import csv     #For reading formatted data files\n",
      "\n",
      "raw_medals_data = list()\n",
      "#We're loaded the data straight from github instead of from a local file for simplicity\n",
      "#We could also use open(\"day1.pythonadv/olympic_medals.csv\") if you started ipython in the swc_hhmi directory\n",
      "for line in csv.DictReader(urllib2.urlopen(\"https://raw.github.com/fishjord/swc_hhmi/master/day1.pythonadv/olympic_medals.csv\")):\n",
      "    raw_medals_data.append(line)"
     ],
     "language": "python",
     "metadata": {},
     "outputs": [],
     "prompt_number": 12
    },
    {
     "cell_type": "markdown",
     "metadata": {},
     "source": [
      "## Exploring the data\n",
      "\n",
      "### Introduction\n",
      "We've loaded the data in to a list, but what exactly does our data look like?\n",
      "\n",
      "We can start by looking at the first record"
     ]
    },
    {
     "cell_type": "code",
     "collapsed": false,
     "input": [
      "print raw_medals_data[0]"
     ],
     "language": "python",
     "metadata": {},
     "outputs": [
      {
       "output_type": "stream",
       "stream": "stdout",
       "text": [
        "{'Silver Medals': '1', 'Country': 'Algeria', 'Gold Medals': '1', 'Bronze Medals': '3', 'Year': '2000'}\n"
       ]
      }
     ],
     "prompt_number": 13
    },
    {
     "cell_type": "markdown",
     "metadata": {},
     "source": [
      "We've loaded the data in our file in to a list.  Each list item is a dictionary containing the 5 columns\n",
      "\n",
      "* Olympic Year\n",
      "* Country\n",
      "* Gold Medals Won\n",
      "* Silver Medals Won\n",
      "* Bronze Medals Won\n",
      "\n",
      "and our first record contains information on the number of medals Algeria won in the 2000 games. **NOTE** Python the first item in a python list is item *0* not 1.\n",
      "\n",
      "Now what if we wanted to see the last record?"
     ]
    },
    {
     "cell_type": "code",
     "collapsed": false,
     "input": [
      "print raw_medals_data[-1]"
     ],
     "language": "python",
     "metadata": {},
     "outputs": [
      {
       "output_type": "stream",
       "stream": "stdout",
       "text": [
        "{'Silver Medals': '0', 'Country': 'Venezuela', 'Gold Medals': '1', 'Bronze Medals': '0', 'Year': '2012'}\n"
       ]
      }
     ],
     "prompt_number": 14
    },
    {
     "cell_type": "markdown",
     "metadata": {},
     "source": [
      "In python, supplying a negative index is like asking for items starting from the end of the list.\n",
      "\n",
      "###Exercises\n",
      "\n",
      "* What year and country is the 3rd record for?\n",
      "* The second to last?\n",
      "* Challenge: How could we get the first 10?\n",
      "* Challenge: Items 2, 4, 6 and 8?"
     ]
    },
    {
     "cell_type": "code",
     "collapsed": false,
     "input": [
      "print raw_medals_data[2]\n",
      "print raw_medals_data[-2]\n",
      "print\n",
      "print raw_medals_data[0:10]\n",
      "print\n",
      "print raw_medals_data[0:10:2]\n",
      "\n",
      "print len(raw_medals_data[:])"
     ],
     "language": "python",
     "metadata": {},
     "outputs": [
      {
       "output_type": "stream",
       "stream": "stdout",
       "text": [
        "{'Silver Medals': '0', 'Country': 'Armenia', 'Gold Medals': '0', 'Bronze Medals': '1', 'Year': '2000'}\n",
        "{'Silver Medals': '0', 'Country': 'Uzbekistan', 'Gold Medals': '1', 'Bronze Medals': '3', 'Year': '2012'}\n",
        "\n",
        "[{'Silver Medals': '1', 'Country': 'Algeria', 'Gold Medals': '1', 'Bronze Medals': '3', 'Year': '2000'}, {'Silver Medals': '17', 'Country': 'Argentina', 'Gold Medals': '0', 'Bronze Medals': '3', 'Year': '2000'}, {'Silver Medals': '0', 'Country': 'Armenia', 'Gold Medals': '0', 'Bronze Medals': '1', 'Year': '2000'}, {'Silver Medals': '69', 'Country': 'Australia', 'Gold Medals': '60', 'Bronze Medals': '54', 'Year': '2000'}, {'Silver Medals': '1', 'Country': 'Austria', 'Gold Medals': '3', 'Bronze Medals': '0', 'Year': '2000'}, {'Silver Medals': '0', 'Country': 'Azerbaijan', 'Gold Medals': '2', 'Bronze Medals': '1', 'Year': '2000'}, {'Silver Medals': '0', 'Country': 'Bahamas', 'Gold Medals': '6', 'Bronze Medals': '5', 'Year': '2000'}, {'Silver Medals': '0', 'Country': 'Barbados', 'Gold Medals': '0', 'Bronze Medals': '1', 'Year': '2000'}, {'Silver Medals': '8', 'Country': 'Belarus', 'Gold Medals': '3', 'Bronze Medals': '11', 'Year': '2000'}, {'Silver Medals': '3', 'Country': 'Belgium', 'Gold Medals': '0', 'Bronze Medals': '4', 'Year': '2000'}]\n",
        "\n",
        "[{'Silver Medals': '1', 'Country': 'Algeria', 'Gold Medals': '1', 'Bronze Medals': '3', 'Year': '2000'}, {'Silver Medals': '0', 'Country': 'Armenia', 'Gold Medals': '0', 'Bronze Medals': '1', 'Year': '2000'}, {'Silver Medals': '1', 'Country': 'Austria', 'Gold Medals': '3', 'Bronze Medals': '0', 'Year': '2000'}, {'Silver Medals': '0', 'Country': 'Bahamas', 'Gold Medals': '6', 'Bronze Medals': '5', 'Year': '2000'}, {'Silver Medals': '8', 'Country': 'Belarus', 'Gold Medals': '3', 'Bronze Medals': '11', 'Year': '2000'}]\n",
        "401\n"
       ]
      }
     ],
     "prompt_number": 29
    },
    {
     "cell_type": "markdown",
     "metadata": {},
     "source": [
      "In python you can ask for array slices, or subsets of array using the [start:end] syntax.\n",
      "\n",
      "**NOTE** the end index is exclusive, using arr[0:3] would give you a new list containing arr[0], arr[1], arr[2].  You can also omit the starting or ending index; if omitted 0 is the implied start index and the length of the array is the implied end index."
     ]
    },
    {
     "cell_type": "markdown",
     "metadata": {},
     "source": [
      "## Extracting Information\n",
      "\n",
      "\n",
      "\n",
      "Suppose we wanted to know how many gold medals Australia won in the year 2000, how would we extract that information from the data we have?"
     ]
    },
    {
     "cell_type": "code",
     "collapsed": false,
     "input": [
      "for data in raw_medals_data:\n",
      "    if data[\"Country\"] == \"Australia\" and data[\"Year\"] == \"2000\":\n",
      "        print \"Australia won %s gold medals in the year 2000\" % data[\"Gold Medals\"]"
     ],
     "language": "python",
     "metadata": {},
     "outputs": [
      {
       "output_type": "stream",
       "stream": "stdout",
       "text": [
        "Australia won 60 gold medals in the year 2000\n"
       ]
      }
     ],
     "prompt_number": 16
    },
    {
     "cell_type": "markdown",
     "metadata": {},
     "source": [
      "A for loop in python goes through each item in a collection one at a time and executes the specified block of code\n",
      "\n",
      "Syntax:\n",
      "```for var in collection:\n",
      "    #...some code...\n",
      "```\n",
      "\n",
      "Where in each iteration `var` is the current item in `collection`.  In our example the first time through the loop `data` contains the first item in the list.\n",
      "\n"
     ]
    },
    {
     "cell_type": "code",
     "collapsed": false,
     "input": [
      "print \"The first three items in the dataset\"\n",
      "print raw_medals_data[0]\n",
      "print raw_medals_data[1]\n",
      "print raw_medals_data[2]\n",
      "\n",
      "print\n",
      "print \"Items via for-loop\"\n",
      "for data in raw_medals_data[0:3]:\n",
      "    print data"
     ],
     "language": "python",
     "metadata": {},
     "outputs": [
      {
       "output_type": "stream",
       "stream": "stdout",
       "text": [
        "The first three items in the dataset\n",
        "{'Silver Medals': '1', 'Country': 'Algeria', 'Gold Medals': '1', 'Bronze Medals': '3', 'Year': '2000'}\n",
        "{'Silver Medals': '17', 'Country': 'Argentina', 'Gold Medals': '0', 'Bronze Medals': '3', 'Year': '2000'}\n",
        "{'Silver Medals': '0', 'Country': 'Armenia', 'Gold Medals': '0', 'Bronze Medals': '1', 'Year': '2000'}\n",
        "\n",
        "Items via for-loop\n",
        "{'Silver Medals': '1', 'Country': 'Algeria', 'Gold Medals': '1', 'Bronze Medals': '3', 'Year': '2000'}\n",
        "{'Silver Medals': '17', 'Country': 'Argentina', 'Gold Medals': '0', 'Bronze Medals': '3', 'Year': '2000'}\n",
        "{'Silver Medals': '0', 'Country': 'Armenia', 'Gold Medals': '0', 'Bronze Medals': '1', 'Year': '2000'}\n"
       ]
      }
     ],
     "prompt_number": 17
    },
    {
     "cell_type": "markdown",
     "metadata": {},
     "source": [
      "How would you modify  to print out the number of medals won by Australia in the year 2012?"
     ]
    },
    {
     "cell_type": "code",
     "collapsed": false,
     "input": [
      "for data in raw_medals_data:\n",
      "    if data[\"Country\"] == \"Australia\" and data[\"Year\"] == \"2012\":\n",
      "        print \"Australia won %s gold medals in the year 2012\" % data[\"Gold Medals\"]"
     ],
     "language": "python",
     "metadata": {},
     "outputs": [
      {
       "output_type": "stream",
       "stream": "stdout",
       "text": [
        "Australia won 18 gold medals in the year 2012\n"
       ]
      }
     ],
     "prompt_number": 18
    },
    {
     "cell_type": "markdown",
     "metadata": {},
     "source": [
      "This works, but we have to duplicate a lot of code to answer each question.  \n",
      "\n",
      "A better solution would be to encapsulate the logic in a function.  \n",
      "\n",
      "A function is a named chunk of code that performs some task.  Good functions should perform a single task and have a descriptive name.  In Python function names are commonly all lower case with words separated by underscores."
     ]
    },
    {
     "cell_type": "code",
     "collapsed": false,
     "input": [
      "def num_gold_medals(medals_data, country, year):\n",
      "    for data in medals_data:\n",
      "        if data[\"Country\"] == country and data[\"Year\"] == year:\n",
      "            print \"%s won %s gold medals in %s Olympics\" % (country, data[\"Gold Medals\"], year)\n",
      "\n",
      "num_gold_medals(raw_medals_data, \"Australia\", \"2002\")\n",
      "num_gold_medals(raw_medals_data, \"Australia\", \"2004\")\n",
      "num_gold_medals(raw_medals_data, \"United States\", \"2004\")"
     ],
     "language": "python",
     "metadata": {},
     "outputs": [
      {
       "output_type": "stream",
       "stream": "stdout",
       "text": [
        "Australia won 2 gold medals in 2002 Olympics\n",
        "Australia won 49 gold medals in 2004 Olympics\n",
        "United States won 118 gold medals in 2004 Olympics\n"
       ]
      }
     ],
     "prompt_number": 19
    },
    {
     "cell_type": "markdown",
     "metadata": {},
     "source": [
      "Exercise: How could we use this function to write another that would output the number of silver medals won by a country?"
     ]
    },
    {
     "cell_type": "code",
     "collapsed": false,
     "input": [
      "def num_silver_medals(medals_data, country, year):\n",
      "    for data in medals_data:\n",
      "        if data[\"Country\"] == country and data[\"Year\"] == year:\n",
      "            print \"%s won %s silver medals in %s Olympics\" % (country, data[\"Silver Medals\"], year)\n",
      "\n",
      "num_silver_medals(raw_medals_data, \"Australia\", \"2000\")\n",
      "num_silver_medals(raw_medals_data, \"Australia\", \"2004\")\n",
      "num_silver_medals(raw_medals_data, \"United States\", \"2004\")"
     ],
     "language": "python",
     "metadata": {},
     "outputs": [
      {
       "output_type": "stream",
       "stream": "stdout",
       "text": [
        "Australia won 69 silver medals in 2000 Olympics\n",
        "Australia won 77 silver medals in 2004 Olympics\n",
        "United States won 75 silver medals in 2004 Olympics\n"
       ]
      }
     ],
     "prompt_number": 20
    },
    {
     "cell_type": "markdown",
     "metadata": {},
     "source": [
      "We could easily continue along these lines to make a function that found the number of bronze medals a country won in a given year, but wouldn't it be better be able to pass the type of medal we're interested as an argument?\n",
      "\n",
      "Exercise: Using `num_silver_medals(...)` as a starting point, write a function that takes the type of medal as an argument\n",
      "\n"
     ]
    },
    {
     "cell_type": "code",
     "collapsed": false,
     "input": [
      "def num_medals(medals_data, country, year, medal):\n",
      "    for data in medals_data:\n",
      "        if data[\"Country\"] == country and data[\"Year\"] == year:\n",
      "            print \"%s won %s %s in %s Olympics\" % (country, medal, data[medal], year)\n",
      "\n",
      "num_medals(raw_medals_data, \"Australia\", \"2002\", \"Bronze Medals\")\n",
      "num_medals(raw_medals_data, \"Australia\", \"2004\", \"Bronze Medals\")\n",
      "num_medals(raw_medals_data, \"United States\", \"2004\", \"Bronze Medals\")"
     ],
     "language": "python",
     "metadata": {},
     "outputs": [
      {
       "output_type": "stream",
       "stream": "stdout",
       "text": [
        "Australia won Bronze Medals 0 in 2002 Olympics\n",
        "Australia won Bronze Medals 30 in 2004 Olympics\n",
        "United States won Bronze Medals 72 in 2004 Olympics\n"
       ]
      }
     ],
     "prompt_number": 21
    },
    {
     "cell_type": "markdown",
     "metadata": {},
     "source": [
      "This is certainly more general purpose than the previous functions, but what if we don't want to just print out a message, what if we want to actually do something with the number of medals?\n",
      "\n",
      "We can modified the function to return the number of medals instead of printing out a message.  This way the function caller can decide what to do with the value."
     ]
    },
    {
     "cell_type": "code",
     "collapsed": false,
     "input": [
      "def num_medals(medals_data, country, year, medal):\n",
      "    for data in medals_data:\n",
      "        if data[\"Country\"] == country and data[\"Year\"] == year:\n",
      "            return int(data[medal])\n",
      "        \n",
      "    return 0  # Not every country participated in all the Olympic games in the dataset\n",
      "\n",
      "print \"Germany won %d gold medals in 2012\" % num_medals(raw_medals_data, \"Germany\", \"2012\", \"Gold Medals\")"
     ],
     "language": "python",
     "metadata": {},
     "outputs": [
      {
       "output_type": "stream",
       "stream": "stdout",
       "text": [
        "Germany won 45 gold medals in 2012\n"
       ]
      }
     ],
     "prompt_number": 30
    },
    {
     "cell_type": "markdown",
     "metadata": {},
     "source": [
      "Exercise: Using the `num_medals(...)` function, write a new function named `count_medals` that returns the total number of medals won by a country in a given year."
     ]
    },
    {
     "cell_type": "code",
     "collapsed": false,
     "input": [
      "def count_medals(medals_data, country, year):\n",
      "    return num_medals(medals_data, country, year, \"Gold Medals\") + \\\n",
      "        num_medals(medals_data, country, year, \"Silver Medals\") + \\\n",
      "        num_medals(medals_data, country, year, \"Bronze Medals\")\n",
      "\n",
      "print \"Germany won %d medals total in 2012\" % count_medals(raw_medals_data, \"Germany\", \"2012\")"
     ],
     "language": "python",
     "metadata": {},
     "outputs": [
      {
       "output_type": "stream",
       "stream": "stdout",
       "text": [
        "Germany won 94 medals total in 2012\n"
       ]
      }
     ],
     "prompt_number": 23
    },
    {
     "cell_type": "markdown",
     "metadata": {},
     "source": [
      "Another question we might wish to ask is \"How many medals did a country win over all the years?\"  If we wanted to build this on top of the `count_medals(...)` function we've already built we will need to know all the years in the dataset."
     ]
    },
    {
     "cell_type": "code",
     "collapsed": false,
     "input": [
      "years = []\n",
      "for data in raw_medals_data:\n",
      "    years.append(data[\"Year\"])\n",
      "    \n",
      "print years"
     ],
     "language": "python",
     "metadata": {},
     "outputs": [
      {
       "output_type": "stream",
       "stream": "stdout",
       "text": [
        "['2000', '2000', '2000', '2000', '2000', '2000', '2000', '2000', '2000', '2000', '2000', '2000', '2000', '2000', '2000', '2000', '2000', '2000', '2000', '2000', '2000', '2000', '2000', '2000', '2000', '2000', '2000', '2000', '2000', '2000', '2000', '2000', '2000', '2000', '2000', '2000', '2000', '2000', '2000', '2000', '2000', '2000', '2000', '2000', '2000', '2000', '2000', '2000', '2000', '2000', '2000', '2000', '2000', '2000', '2000', '2000', '2000', '2000', '2000', '2000', '2000', '2000', '2000', '2000', '2000', '2000', '2000', '2000', '2000', '2000', '2000', '2000', '2000', '2000', '2000', '2000', '2000', '2000', '2000', '2000', '2002', '2002', '2002', '2002', '2002', '2002', '2002', '2002', '2002', '2002', '2002', '2002', '2002', '2002', '2002', '2002', '2002', '2002', '2002', '2002', '2002', '2002', '2002', '2002', '2004', '2004', '2004', '2004', '2004', '2004', '2004', '2004', '2004', '2004', '2004', '2004', '2004', '2004', '2004', '2004', '2004', '2004', '2004', '2004', '2004', '2004', '2004', '2004', '2004', '2004', '2004', '2004', '2004', '2004', '2004', '2004', '2004', '2004', '2004', '2004', '2004', '2004', '2004', '2004', '2004', '2004', '2004', '2004', '2004', '2004', '2004', '2004', '2004', '2004', '2004', '2004', '2004', '2004', '2004', '2004', '2004', '2004', '2004', '2004', '2004', '2004', '2004', '2004', '2004', '2004', '2004', '2004', '2004', '2004', '2004', '2004', '2004', '2004', '2006', '2006', '2006', '2006', '2006', '2006', '2006', '2006', '2006', '2006', '2006', '2006', '2006', '2006', '2006', '2006', '2006', '2006', '2006', '2006', '2006', '2006', '2006', '2006', '2006', '2006', '2008', '2008', '2008', '2008', '2008', '2008', '2008', '2008', '2008', '2008', '2008', '2008', '2008', '2008', '2008', '2008', '2008', '2008', '2008', '2008', '2008', '2008', '2008', '2008', '2008', '2008', '2008', '2008', '2008', '2008', '2008', '2008', '2008', '2008', '2008', '2008', '2008', '2008', '2008', '2008', '2008', '2008', '2008', '2008', '2008', '2008', '2008', '2008', '2008', '2008', '2008', '2008', '2008', '2008', '2008', '2008', '2008', '2008', '2008', '2008', '2008', '2008', '2008', '2008', '2008', '2008', '2008', '2008', '2008', '2008', '2008', '2008', '2008', '2008', '2008', '2008', '2008', '2008', '2008', '2008', '2008', '2008', '2008', '2008', '2008', '2008', '2010', '2010', '2010', '2010', '2010', '2010', '2010', '2010', '2010', '2010', '2010', '2010', '2010', '2010', '2010', '2010', '2010', '2010', '2010', '2010', '2010', '2010', '2010', '2010', '2010', '2010', '2012', '2012', '2012', '2012', '2012', '2012', '2012', '2012', '2012', '2012', '2012', '2012', '2012', '2012', '2012', '2012', '2012', '2012', '2012', '2012', '2012', '2012', '2012', '2012', '2012', '2012', '2012', '2012', '2012', '2012', '2012', '2012', '2012', '2012', '2012', '2012', '2012', '2012', '2012', '2012', '2012', '2012', '2012', '2012', '2012', '2012', '2012', '2012', '2012', '2012', '2012', '2012', '2012', '2012', '2012', '2012', '2012', '2012', '2012', '2012', '2012', '2012', '2012', '2012', '2012', '2012', '2012', '2012', '2012', '2012', '2012', '2012', '2012', '2012', '2012', '2012', '2012', '2012', '2012', '2012', '2012', '2012', '2012', '2012', '2012']\n"
       ]
      }
     ],
     "prompt_number": 32
    },
    {
     "cell_type": "markdown",
     "metadata": {},
     "source": [
      "Whoops, this isn't quite what we wanted, if each year appears more than once we'll end up over-counting the number of medals!\n",
      "\n",
      "We've got a few options.  First we could check to see if the list already contains the year we're about to add."
     ]
    },
    {
     "cell_type": "code",
     "collapsed": false,
     "input": [
      "years = []\n",
      "for data in raw_medals_data:\n",
      "    if data[\"Year\"] not in years:\n",
      "        years.append(data[\"Year\"])\n",
      "    \n",
      "print years"
     ],
     "language": "python",
     "metadata": {},
     "outputs": [
      {
       "output_type": "stream",
       "stream": "stdout",
       "text": [
        "['2000', '2002', '2004', '2006', '2008', '2010', '2012']\n"
       ]
      }
     ],
     "prompt_number": 34
    },
    {
     "cell_type": "markdown",
     "metadata": {},
     "source": [
      "This isn't so bad if we are working with a small dataset with few unique values.  A better approach however would be to use a `set()`.  A set is an unordered collection of unique objects."
     ]
    },
    {
     "cell_type": "code",
     "collapsed": false,
     "input": [
      "def list_years(medals_data):\n",
      "    years = set()\n",
      "    for data in medals_data:\n",
      "        years.add(data[\"Year\"])\n",
      "    return years\n",
      "    \n",
      "print \"The dataset contains data for the years %s\" % list_years(raw_medals_data)"
     ],
     "language": "python",
     "metadata": {},
     "outputs": [
      {
       "output_type": "stream",
       "stream": "stdout",
       "text": [
        "The dataset contains data for the years set(['2002', '2000', '2006', '2004', '2008', '2010', '2012'])\n"
       ]
      }
     ],
     "prompt_number": 24
    },
    {
     "cell_type": "markdown",
     "metadata": {},
     "source": [
      "Exercise: Use the `list_years(...)` function and the `count_medals(...)` function to write a function `total_medals_won_by_country` that counts the number of medals won by a country across the entire dataset"
     ]
    },
    {
     "cell_type": "code",
     "collapsed": false,
     "input": [
      "def total_medals_won_by_country(medal_data, country):\n",
      "    total_medals = 0\n",
      "    for year in list_years(medal_data):\n",
      "        total_medals += count_medals(medal_data, country, year)\n",
      "    return total_medals\n",
      "    \n",
      "print \"Ireland won %d medals over all years in the dataset\" % total_medals_won_by_country(raw_medals_data, \"Ireland\")\n",
      "print \"Great Britain won %d medals over all years in the dataset\" % total_medals_won_by_country(raw_medals_data, \"Great Britain\")\n",
      "print \"Greece won %d medals over all years in the dataset\" % total_medals_won_by_country(raw_medals_data, \"Greece\")\n",
      "print \"Hungary won %d medals over all years in the dataset\" % total_medals_won_by_country(raw_medals_data, \"Hungary\")"
     ],
     "language": "python",
     "metadata": {},
     "outputs": [
      {
       "output_type": "stream",
       "stream": "stdout",
       "text": [
        "Ireland won 9 medals over all years in the dataset\n",
        "Great Britain won 322 medals over all years in the dataset\n",
        "Greece won 59 medals over all years in the dataset\n",
        "Hungary won 145 medals over all years in the dataset\n"
       ]
      }
     ],
     "prompt_number": 25
    },
    {
     "cell_type": "markdown",
     "metadata": {},
     "source": [
      "Exercise: Write a function to count the total number of medals awarded in a year.\n",
      "\n",
      "Hint: Count the number of medals each country won in the given year"
     ]
    },
    {
     "cell_type": "code",
     "collapsed": false,
     "input": [
      "def list_countries(medal_data):\n",
      "    countries = set()\n",
      "    for data in medal_data:\n",
      "        countries.add(data[\"Country\"])\n",
      "    return countries\n",
      "\n",
      "def total_medals_won_by_year(medal_data, year):\n",
      "    total_medals = 0\n",
      "    for country in list_countries(medal_data):\n",
      "        total_medals += count_medals(medal_data, country, year)\n",
      "    return total_medals\n",
      "        \n",
      "print \"There were %d total medals awarded in 2000\" % total_medals_won_by_year(raw_medals_data, \"2000\")\n",
      "print \"There were %d total medals awarded in 2012\" % total_medals_won_by_year(raw_medals_data, \"2012\")"
     ],
     "language": "python",
     "metadata": {},
     "outputs": [
      {
       "output_type": "stream",
       "stream": "stdout",
       "text": [
        "There were 2005 total medals awarded in 2000\n",
        "There were 1946 total medals awarded in 2012"
       ]
      },
      {
       "output_type": "stream",
       "stream": "stdout",
       "text": [
        "\n"
       ]
      }
     ],
     "prompt_number": 36
    },
    {
     "cell_type": "markdown",
     "metadata": {},
     "source": [
      "Exercise: How could we use everything we've written so far to count how many medals were awarded total?"
     ]
    },
    {
     "cell_type": "code",
     "collapsed": false,
     "input": [
      "def total_medals_awarded(medal_data):\n",
      "    total_medals = 0\n",
      "    for year in list_years(medal_data):\n",
      "        total_medals += total_medals_won_by_year(medal_data, year)\n",
      "    return total_medals\n",
      "\n",
      "print \"%d medals were awarded across all countries and years in the dataset\" % total_medals_awarded(raw_medals_data)"
     ],
     "language": "python",
     "metadata": {},
     "outputs": [
      {
       "output_type": "stream",
       "stream": "stdout",
       "text": [
        "9529 medals were awarded across all countries and years in the dataset\n"
       ]
      }
     ],
     "prompt_number": 39
    },
    {
     "cell_type": "markdown",
     "metadata": {},
     "source": [
      "## Classes\n",
      "\n",
      "We can think of a lot of things we might be interested in counting with this dataset. Classes are a way to group a set of conceptually related data and operations.  We can combine together the functions we've written so far in to a single medal counting object"
     ]
    },
    {
     "cell_type": "code",
     "collapsed": false,
     "input": [
      "class MedalCounting:\n",
      "    def __init__(self, medals_data):\n",
      "        self.medals_data = medals_data\n",
      "    \n",
      "    def num_medals(self, country, year, medal):\n",
      "        for data in self.medals_data:\n",
      "            if data[\"Country\"] == country and data[\"Year\"] == year:\n",
      "                return int(data[medal])\n",
      "            \n",
      "        return 0\n",
      "            \n",
      "    def count_all_medals(self, country, year):\n",
      "        return self.num_medals(country, year, \"Gold Medals\") + \\\n",
      "            self.num_medals(country, year, \"Silver Medals\") + \\\n",
      "            self.num_medals(country, year, \"Bronze Medals\")\n",
      "            \n",
      "    def list_years(self):\n",
      "        years = set()\n",
      "        for data in self.medals_data:\n",
      "            years.add(data[\"Year\"])\n",
      "        return years\n",
      "    \n",
      "    def total_medals_won_by_country(self, country):\n",
      "        total_medals = 0\n",
      "        return self.count_medals(country, self.list_years(), [\"Gold Medals\", \"Silver Medals\", \"Bronze Medals\"])"
     ],
     "language": "python",
     "metadata": {},
     "outputs": [],
     "prompt_number": 41
    },
    {
     "cell_type": "markdown",
     "metadata": {},
     "source": [
      "Challenge: We could vastly improve our counting by doing all the counting in a single pass over the data.  Use the template below to implement a more efficient counting method"
     ]
    },
    {
     "cell_type": "code",
     "collapsed": false,
     "input": [
      "class MedalCounting:\n",
      "    def __init__(self, medals_data):\n",
      "        self.medals_data = medals_data\n",
      "    \n",
      "    def count_medals(self, country, years, medals):\n",
      "        num_medals = 0\n",
      "        for data in self.medals_data:\n",
      "            if data[\"Country\"] == country and data[\"Year\"] in years:\n",
      "                for medal in medals:\n",
      "                    num_medals += int(data[medal])\n",
      "                    \n",
      "        return num_medals"
     ],
     "language": "python",
     "metadata": {},
     "outputs": [
      {
       "output_type": "stream",
       "stream": "stdout",
       "text": [
        "Ireland won 9 medals over all years in the dataset\n"
       ]
      }
     ],
     "prompt_number": 26
    },
    {
     "cell_type": "code",
     "collapsed": false,
     "input": [
      "class MedalCounting:\n",
      "    def __init__(self, medals_data):\n",
      "        self.medals_data = medals_data\n",
      "    \n",
      "    def count_medals(self, countries, years, medals):\n",
      "        num_medals = 0\n",
      "        for data in self.medals_data:\n",
      "            if data[\"Country\"] in countries and data[\"Year\"] in years:\n",
      "                for medal in medals:\n",
      "                    num_medals += int(data[medal])\n",
      "                    \n",
      "        return num_medals\n",
      "            \n",
      "    def count_all_medals(self, country, year):\n",
      "        return self.count_medals([country], [year], [\"Gold Medals\", \"Silver Medals\", \"Bronze Medals\"])\n",
      "    \n",
      "    def count_silver_medals(self, country, year):\n",
      "        return self.count_medals([country], [year], [\"Silver Medals\"])\n",
      " \n",
      "    def total_medals_won_by_country(self, country):\n",
      "        return self.count_medals(country, self.list_years(), [\"Gold Medals\", \"Silver Medals\", \"Bronze Medals\"])\n",
      "        \n",
      "    def total_medals_won_by_year(self, year):\n",
      "        return self.count_medals(self.list_countries(), year, [\"Gold Medals\", \"Silver Medals\", \"Bronze Medals\"])\n",
      "    \n",
      "    def total_medals_awarded(self):\n",
      "        return self.count_medals(self.list_countries(), self.list_years(), [\"Gold Medals\", \"Silver Medals\", \"Bronze Medals\"])\n",
      "    \n",
      "    def list_years(self):\n",
      "        years = set()\n",
      "        for data in self.medals_data:\n",
      "            years.add(data[\"Year\"])\n",
      "        return years\n",
      "    \n",
      "    def list_countries(self):\n",
      "        countries = set()\n",
      "        for data in self.medals_data:\n",
      "            countries.add(data[\"Country\"])\n",
      "        return countries\n",
      "\n",
      "counter = MedalCounting(raw_medals_data)\n",
      "print \"There are %d years in the dataset\" % len(counter.list_years())\n",
      "print \"There are %d total countries in the data set\" % len(counter.list_countries())\n",
      "print \"Ireland won %d medals over all years in the dataset\" % counter.total_medals_won_by_country(\"Ireland\")\n",
      "print \"Brazil won %d silver medals in 2012\" % counter.count_silver_medals(\"Brazil\", \"2012\")\n",
      "print \"There were %d total medals awarded in 2000\" % counter.total_medals_won_by_year(\"2000\")\n",
      "print \"There were %d total medals awarded in 2012\" % counter.total_medals_won_by_year(\"2012\")\n",
      "print \"There were %d total medals awarded over all years in the dataset\" % counter.total_medals_awarded()"
     ],
     "language": "python",
     "metadata": {},
     "outputs": [
      {
       "output_type": "stream",
       "stream": "stdout",
       "text": [
        "There are 7 years in the dataset\n",
        "There are 110 total countries in the data set\n",
        "Ireland won 9 medals over all years in the dataset\n",
        "Brazil won 34 silver medals in 2012\n",
        "There were 2005 total medals awarded in 2000\n",
        "There were 1946 total medals awarded in 2012\n",
        "There were 9529 total medals awarded over all years in the dataset\n"
       ]
      }
     ],
     "prompt_number": 42
    },
    {
     "cell_type": "code",
     "collapsed": false,
     "input": [],
     "language": "python",
     "metadata": {},
     "outputs": []
    }
   ],
   "metadata": {}
  }
 ]
}