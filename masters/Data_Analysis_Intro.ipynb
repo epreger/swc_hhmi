{
 "metadata": {
  "name": "Data_Analysis_Intro"
 },
 "nbformat": 3,
 "nbformat_minor": 0,
 "worksheets": [
  {
   "cells": [
    {
     "cell_type": "markdown",
     "metadata": {},
     "source": [
      "Working with Data in Python\n",
      "============================\n",
      "\n",
      "Goals\n",
      "--------\n",
      "* Using the csv module to read structured data\n",
      "* Using lists, dictionaries, and sets to work with data\n",
      "* Using for-loops to process data\n",
      "* Brief taste of plotting\n",
      "\n",
      "\n",
      "\n",
      "Dataset\n",
      "---------\n",
      "We'll be working with data for the number of medals won at the olympic games since 2000.  The data is contained in datasets/olympic_medals.csv and is broken up by year and country.\n",
      "\n",
      "Reading Data\n",
      "--------------\n",
      "We'll be using the 'csv' module to read data, it is one of the easier ways to read structured data from a variety of sources.  Despite the name the csv module can read structured data file with any delimiter (field seperate ',' in the case of csv files) files as well.  Some common delimiters are tab, space, and occasionally |.\n",
      "\n",
      "The readers in the csv package read one line at a time, the basic csv.reader returns a list where as the csv.DictReader returns a dictionary where the keys are the column headers."
     ]
    },
    {
     "cell_type": "code",
     "collapsed": false,
     "input": [
      "import urllib2 #For reading from URLs\n",
      "import csv     #For reading formatted data files\n",
      "\n",
      "raw_medals_data = list()\n",
      "for line in csv.DictReader(urllib2.urlopen(\"https://raw.github.com/fishjord/swc_hhmi/master/datasets/olympic_medals.csv\")):\n",
      "    raw_medals_data.append(line)"
     ],
     "language": "python",
     "metadata": {},
     "outputs": [],
     "prompt_number": 3
    },
    {
     "cell_type": "markdown",
     "metadata": {},
     "source": [
      "We've loaded the data straight from github instead of from a file, this is to allow the example to just work for everyone without having to know where the files are on each person's computer.  We'll talk more about for loops and lists below.\n",
      "\n",
      "###Different ways to load data\n",
      "* Directly from a website with urllib2\n",
      "* From the directory we started ipython using `open(\"filename\")`\n",
      "  * We can see the contents of our current directory by using the `!ls` command\n",
      "  * In IPython we can use shell commands be prefixing them with an !\n",
      "* From somewhere else on the computer we'd have to specify the path like `open(\"path/to/file\")`"
     ]
    },
    {
     "cell_type": "code",
     "collapsed": false,
     "input": [
      "!pwd  #Where are we right now? (Print Working Directory)\n",
      "!ls   #What is in this directory (LiSt directory)"
     ],
     "language": "python",
     "metadata": {},
     "outputs": [
      {
       "output_type": "stream",
       "stream": "stdout",
       "text": [
        "/home/fishjord/swc_hhmi/masters\r\n"
       ]
      },
      {
       "output_type": "stream",
       "stream": "stdout",
       "text": [
        "CreateIntroDataset.ipynb  Data_Analysis_Intro.ipynb\r\n"
       ]
      }
     ],
     "prompt_number": 5
    },
    {
     "cell_type": "markdown",
     "metadata": {},
     "source": [
      "## Exploring the data\n",
      "\n",
      "### Introduction\n",
      "We've loaded the data in to a list, but what exactly does our data look like?\n",
      "\n",
      "We can start by looking at the first record"
     ]
    },
    {
     "cell_type": "code",
     "collapsed": false,
     "input": [
      "print raw_medals_data[0]"
     ],
     "language": "python",
     "metadata": {},
     "outputs": [
      {
       "output_type": "stream",
       "stream": "stdout",
       "text": [
        "{'Silver Medals': '1', 'Country': 'Algeria', 'Gold Medals': '1', 'Bronze Medals': '3', 'Year': '2000'}\n"
       ]
      }
     ],
     "prompt_number": 12
    },
    {
     "cell_type": "markdown",
     "metadata": {},
     "source": [
      "Our data file contains 5 columns\n",
      "\n",
      "* Olympic Year\n",
      "* Country\n",
      "* Gold Medals Won\n",
      "* Silver Medals Won\n",
      "* Bronze Medals Won\n",
      "\n",
      "and our first record contains information on the number of medals Algeria won in the 2000 games. **NOTE** Python the first item in a python list is item *0* not 1.\n",
      "\n",
      "Now what if we wanted to see the last record?"
     ]
    },
    {
     "cell_type": "code",
     "collapsed": false,
     "input": [
      "print raw_medals_data[-1]"
     ],
     "language": "python",
     "metadata": {},
     "outputs": [
      {
       "output_type": "stream",
       "stream": "stdout",
       "text": [
        "{'Silver Medals': '0', 'Country': 'Venezuela', 'Gold Medals': '1', 'Bronze Medals': '0', 'Year': '2012'}\n"
       ]
      }
     ],
     "prompt_number": 11
    },
    {
     "cell_type": "markdown",
     "metadata": {},
     "source": [
      "In python, supplying a negative index is like asking for items starting from the end of the list.\n",
      "\n",
      "###Excercises\n",
      "\n",
      "* What year and country is the 3rd record for?\n",
      "* The second to last?\n",
      "* The 50th?"
     ]
    },
    {
     "cell_type": "code",
     "collapsed": false,
     "input": [
      "print raw_medals_data[2]\n",
      "print raw_medals_data[49]\n",
      "print raw_medals_data[-2]"
     ],
     "language": "python",
     "metadata": {},
     "outputs": [
      {
       "output_type": "stream",
       "stream": "stdout",
       "text": [
        "{'Silver Medals': '0', 'Country': 'Armenia', 'Gold Medals': '0', 'Bronze Medals': '1', 'Year': '2000'}\n",
        "{'Silver Medals': '1', 'Country': 'Moldova', 'Gold Medals': '0', 'Bronze Medals': '1', 'Year': '2000'}\n",
        "{'Silver Medals': '0', 'Country': 'Uzbekistan', 'Gold Medals': '1', 'Bronze Medals': '3', 'Year': '2012'}\n"
       ]
      }
     ],
     "prompt_number": 10
    },
    {
     "cell_type": "markdown",
     "metadata": {},
     "source": [
      "Now we can ask questions like what are the fields each data point has?"
     ]
    },
    {
     "cell_type": "code",
     "collapsed": false,
     "input": [
      "print \"Each data point has the fields %s\" % raw_medals_data[0].keys()"
     ],
     "language": "python",
     "metadata": {},
     "outputs": [
      {
       "output_type": "stream",
       "stream": "stdout",
       "text": [
        "Each data point has the fields ['Silver Medals', 'Country', 'Gold Medals', 'Bronze Medals', 'Year']\n"
       ]
      }
     ],
     "prompt_number": 8
    },
    {
     "cell_type": "markdown",
     "metadata": {},
     "source": [
      "Or how many data points do we have?"
     ]
    },
    {
     "cell_type": "code",
     "collapsed": false,
     "input": [
      "print \"The dataset contains %d data points\" % len(raw_medals_data)"
     ],
     "language": "python",
     "metadata": {},
     "outputs": [
      {
       "output_type": "stream",
       "stream": "stdout",
       "text": [
        "The dataset contains 401 data points\n"
       ]
      }
     ],
     "prompt_number": 6
    },
    {
     "cell_type": "markdown",
     "metadata": {},
     "source": [
      "Or how about how many gold medals did the US win across all the years?"
     ]
    },
    {
     "cell_type": "code",
     "collapsed": false,
     "input": [
      "medals = 0\n",
      "for data in raw_medals_data:\n",
      "    if data[\"Country\"] == \"United States\":\n",
      "        medals = medals + int(data[\"Gold Medals\"])\n",
      "print \"The US won %d gold medals total for the years in question\" % medals"
     ],
     "language": "python",
     "metadata": {},
     "outputs": [
      {
       "output_type": "stream",
       "stream": "stdout",
       "text": [
        "The US won 552 gold medals total for the years in question\n"
       ]
      }
     ],
     "prompt_number": 14
    },
    {
     "cell_type": "markdown",
     "metadata": {},
     "source": [
      "What years are present in the dataset?"
     ]
    },
    {
     "cell_type": "code",
     "collapsed": false,
     "input": [
      "years = set()\n",
      "for data in raw_medals_data:\n",
      "    years.add(data[\"Year\"])\n",
      "print \"Years: %s\" % sorted(years)"
     ],
     "language": "python",
     "metadata": {},
     "outputs": [
      {
       "output_type": "stream",
       "stream": "stdout",
       "text": [
        "Years: ['2000', '2002', '2004', '2006', '2008', '2010', '2012']\n"
       ]
      }
     ],
     "prompt_number": 15
    },
    {
     "cell_type": "code",
     "collapsed": false,
     "input": [],
     "language": "python",
     "metadata": {},
     "outputs": []
    }
   ],
   "metadata": {}
  }
 ]
}