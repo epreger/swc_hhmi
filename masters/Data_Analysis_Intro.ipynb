{
 "metadata": {
  "name": "Data_Analysis_Intro"
 },
 "nbformat": 3,
 "nbformat_minor": 0,
 "worksheets": [
  {
   "cells": [
    {
     "cell_type": "markdown",
     "metadata": {},
     "source": [
      "Working with Data in Python\n",
      "============================\n",
      "\n",
      "Goals\n",
      "--------\n",
      "* Using the csv module to read structured data\n",
      "* Using lists, dictionaries, and sets to work with data\n",
      "* Using for-loops to process data\n",
      "* Classes\n",
      "\n",
      "\n",
      "\n",
      "Dataset\n",
      "---------\n",
      "We'll be working with data for the number of medals won at the olympic games since 2000.  The data is contained in datasets/olympic_medals.csv and is broken up by year and country.\n",
      "\n",
      "Reading Data\n",
      "--------------\n",
      "We'll be using the 'csv' module to read data, it is one of the easier ways to read structured data from a variety of sources.  Despite the name the csv module can read structured data file with any delimiter (field seperates, ',' in the case of csv files) files as well.  Some common delimiters are tab, space, and occasionally |.\n",
      "\n",
      "The readers in the csv package read one line at a time, the basic csv.reader returns a list where as the csv.DictReader returns a dictionary where the keys are the column headers."
     ]
    },
    {
     "cell_type": "code",
     "collapsed": false,
     "input": [
      "import urllib2 #For reading from URLs\n",
      "import csv     #For reading formatted data files\n",
      "\n",
      "raw_medals_data = list()\n",
      "for line in csv.DictReader(urllib2.urlopen(\"https://raw.github.com/fishjord/swc_hhmi/master/datasets/olympic_medals.csv\")):\n",
      "    raw_medals_data.append(line)"
     ],
     "language": "python",
     "metadata": {},
     "outputs": [],
     "prompt_number": 3
    },
    {
     "cell_type": "markdown",
     "metadata": {},
     "source": [
      "We've loaded the data straight from github instead of from a file, this is to allow the example to just work for everyone without having to know where the files are on each person's computer.  We'll talk more about for loops and lists below.\n",
      "\n",
      "###Different ways to load data\n",
      "* Directly from a website with urllib2\n",
      "* From the directory we started ipython using `open(\"filename\")`\n",
      "  * We can see the contents of our current directory by using the `!ls` command\n",
      "  * In IPython we can use shell commands be prefixing them with an !\n",
      "* From somewhere else on the computer we'd have to specify the path like `open(\"path/to/file\")`"
     ]
    },
    {
     "cell_type": "code",
     "collapsed": false,
     "input": [
      "!pwd  #Where are we right now? (Print Working Directory)\n",
      "!ls   #What is in this directory (LiSt directory)"
     ],
     "language": "python",
     "metadata": {},
     "outputs": [
      {
       "output_type": "stream",
       "stream": "stdout",
       "text": [
        "/home/fishjord/swc_hhmi/masters\r\n"
       ]
      },
      {
       "output_type": "stream",
       "stream": "stdout",
       "text": [
        "CreateIntroDataset.ipynb  Data_Analysis_Intro.ipynb\r\n"
       ]
      }
     ],
     "prompt_number": 5
    },
    {
     "cell_type": "markdown",
     "metadata": {},
     "source": [
      "## Exploring the data\n",
      "\n",
      "### Introduction\n",
      "We've loaded the data in to a list, but what exactly does our data look like?\n",
      "\n",
      "We can start by looking at the first record"
     ]
    },
    {
     "cell_type": "code",
     "collapsed": false,
     "input": [
      "print raw_medals_data[0]"
     ],
     "language": "python",
     "metadata": {},
     "outputs": [
      {
       "output_type": "stream",
       "stream": "stdout",
       "text": [
        "{'Silver Medals': '1', 'Country': 'Algeria', 'Gold Medals': '1', 'Bronze Medals': '3', 'Year': '2000'}\n"
       ]
      }
     ],
     "prompt_number": 12
    },
    {
     "cell_type": "markdown",
     "metadata": {},
     "source": [
      "Our data file contains 5 columns\n",
      "\n",
      "* Olympic Year\n",
      "* Country\n",
      "* Gold Medals Won\n",
      "* Silver Medals Won\n",
      "* Bronze Medals Won\n",
      "\n",
      "and our first record contains information on the number of medals Algeria won in the 2000 games. **NOTE** Python the first item in a python list is item *0* not 1.\n",
      "\n",
      "Now what if we wanted to see the last record?"
     ]
    },
    {
     "cell_type": "code",
     "collapsed": false,
     "input": [
      "print raw_medals_data[-1]"
     ],
     "language": "python",
     "metadata": {},
     "outputs": [
      {
       "output_type": "stream",
       "stream": "stdout",
       "text": [
        "{'Silver Medals': '0', 'Country': 'Venezuela', 'Gold Medals': '1', 'Bronze Medals': '0', 'Year': '2012'}\n"
       ]
      }
     ],
     "prompt_number": 11
    },
    {
     "cell_type": "markdown",
     "metadata": {},
     "source": [
      "In python, supplying a negative index is like asking for items starting from the end of the list.\n",
      "\n",
      "###Excercises\n",
      "\n",
      "* What year and country is the 3rd record for?\n",
      "* The second to last?\n",
      "* The 50th?"
     ]
    },
    {
     "cell_type": "code",
     "collapsed": false,
     "input": [
      "print raw_medals_data[2]\n",
      "print raw_medals_data[49]\n",
      "print raw_medals_data[-2]"
     ],
     "language": "python",
     "metadata": {},
     "outputs": [
      {
       "output_type": "stream",
       "stream": "stdout",
       "text": [
        "{'Silver Medals': '0', 'Country': 'Armenia', 'Gold Medals': '0', 'Bronze Medals': '1', 'Year': '2000'}\n",
        "{'Silver Medals': '1', 'Country': 'Moldova', 'Gold Medals': '0', 'Bronze Medals': '1', 'Year': '2000'}\n",
        "{'Silver Medals': '0', 'Country': 'Uzbekistan', 'Gold Medals': '1', 'Bronze Medals': '3', 'Year': '2012'}\n"
       ]
      }
     ],
     "prompt_number": 10
    },
    {
     "cell_type": "markdown",
     "metadata": {},
     "source": [
      "## Extracting Information\n",
      "\n",
      "\n",
      "\n",
      "Suppose we wanted to know how many gold medals Australia won in the year 2000, how would we extract that information from the data we have?"
     ]
    },
    {
     "cell_type": "code",
     "collapsed": false,
     "input": [
      "for data in raw_medals_data:\n",
      "    if data[\"Country\"] == \"Australia\" and data[\"Year\"] == \"2000\":\n",
      "        print \"Australia won %s gold medals in the year 2000\" % data[\"Gold Medals\"]"
     ],
     "language": "python",
     "metadata": {},
     "outputs": [
      {
       "output_type": "stream",
       "stream": "stdout",
       "text": [
        "Australia won 60 gold medals in the year 2000\n"
       ]
      }
     ],
     "prompt_number": 22
    },
    {
     "cell_type": "markdown",
     "metadata": {},
     "source": [
      "How about for the year 2012?"
     ]
    },
    {
     "cell_type": "code",
     "collapsed": false,
     "input": [
      "for data in raw_medals_data:\n",
      "    if data[\"Country\"] == \"Australia\" and data[\"Year\"] == \"2012\":\n",
      "        print \"Australia won %s gold medals in the year 2012\" % data[\"Gold Medals\"]"
     ],
     "language": "python",
     "metadata": {},
     "outputs": [
      {
       "output_type": "stream",
       "stream": "stdout",
       "text": [
        "Australia won 18 gold medals in the year 2012\n"
       ]
      }
     ],
     "prompt_number": 23
    },
    {
     "cell_type": "markdown",
     "metadata": {},
     "source": [
      "This works, but we have to duplicate a lot of code to answer each question.  \n",
      "\n",
      "A better solution would be to encasulate the logic in a function.  A function is a named chunk of code that performs some task.  Good functions should perform a single task and have a descriptive name.  In Python functions are commonly all lower case with words seperated by underscores."
     ]
    },
    {
     "cell_type": "code",
     "collapsed": false,
     "input": [
      "def num_gold_medals(medals_data, country, year):\n",
      "    for data in medals_data:\n",
      "        if data[\"Country\"] == country and data[\"Year\"] == year:\n",
      "            print \"%s won %s gold medals in %s olympics\" % (country, data[\"Gold Medals\"], year)\n",
      "\n",
      "num_gold_medals(raw_medals_data, \"Australia\", \"2002\")\n",
      "num_gold_medals(raw_medals_data, \"Australia\", \"2004\")\n",
      "num_gold_medals(raw_medals_data, \"United States\", \"2004\")"
     ],
     "language": "python",
     "metadata": {},
     "outputs": [
      {
       "output_type": "stream",
       "stream": "stdout",
       "text": [
        "Australia won 2 gold medals in 2002 olympics\n",
        "Australia won 49 gold medals in 2004 olympics\n",
        "United States won 118 gold medals in 2004 olympics\n"
       ]
      }
     ],
     "prompt_number": 28
    },
    {
     "cell_type": "markdown",
     "metadata": {},
     "source": [
      "### Exercises\n",
      "\n",
      "* How would you modify the function to output the number of silver medals won?\n",
      "* How would you modify this function to take the type of medal output as a parameter?"
     ]
    },
    {
     "cell_type": "code",
     "collapsed": false,
     "input": [
      "def num_silver_medals(medals_data, country, year):\n",
      "    for data in medals_data:\n",
      "        if data[\"Country\"] == country and data[\"Year\"] == year:\n",
      "            print \"%s won %s silver medals in %s olympics\" % (country, data[\"Silver Medals\"], year)\n",
      "\n",
      "num_silver_medals(raw_medals_data, \"Australia\", \"2002\")\n",
      "num_silver_medals(raw_medals_data, \"Australia\", \"2004\")\n",
      "num_silver_medals(raw_medals_data, \"United States\", \"2004\")"
     ],
     "language": "python",
     "metadata": {},
     "outputs": [
      {
       "output_type": "stream",
       "stream": "stdout",
       "text": [
        "Australia won 0 silver medals in 2002 olympics\n",
        "Australia won 77 silver medals in 2004 olympics\n",
        "United States won 75 silver medals in 2004 olympics\n"
       ]
      }
     ],
     "prompt_number": 30
    },
    {
     "cell_type": "code",
     "collapsed": false,
     "input": [
      "def num_medals(medals_data, country, year, medal):\n",
      "    for data in medals_data:\n",
      "        if data[\"Country\"] == country and data[\"Year\"] == year:\n",
      "            print \"%s won %s %s in %s olympics\" % (country, medal, data[medal], year)\n",
      "\n",
      "num_medals(raw_medals_data, \"Australia\", \"2002\", \"Bronze Medals\")\n",
      "num_medals(raw_medals_data, \"Australia\", \"2004\", \"Bronze Medals\")\n",
      "num_medals(raw_medals_data, \"United States\", \"2004\", \"Bronze Medals\")"
     ],
     "language": "python",
     "metadata": {},
     "outputs": [
      {
       "output_type": "stream",
       "stream": "stdout",
       "text": [
        "Australia won Bronze Medals 0 in 2002 olympics\n",
        "Australia won Bronze Medals 30 in 2004 olympics\n",
        "United States won Bronze Medals 72 in 2004 olympics\n"
       ]
      }
     ],
     "prompt_number": 31
    },
    {
     "cell_type": "markdown",
     "metadata": {},
     "source": [
      "## Classes\n",
      "\n",
      "We can think of a lot of things we might be interested in counting with this dataset, we've already covered counting the number of each medal type by year and country but we can also look at\n",
      "\n",
      "* Total number of medals for a country in a given year\n",
      "* Total number of medals given out in a given year\n",
      "\n",
      "Classes are a way to group a set of conceptually related data and operations."
     ]
    },
    {
     "cell_type": "code",
     "collapsed": false,
     "input": [
      "class MedalCounting:\n",
      "    def __init__(self, medals_data):\n",
      "        self.medals_data = medals_data\n",
      "    \n",
      "    def num_medals(self, country, year, medal):\n",
      "        for data in self.medals_data:\n",
      "            if data[\"Country\"] == country and data[\"Year\"] == year:\n",
      "                return int(data[medal])\n",
      "            \n",
      "counter = MedalCounting(raw_medals_data)\n",
      "print \"Germany won %d gold medals in 2012\" % counter.num_medals(\"Germany\", \"2012\", \"Gold Medals\")"
     ],
     "language": "python",
     "metadata": {},
     "outputs": [
      {
       "output_type": "stream",
       "stream": "stdout",
       "text": [
        "Germany won 45 gold medals in 2012\n"
       ]
      }
     ],
     "prompt_number": 37
    },
    {
     "cell_type": "code",
     "collapsed": false,
     "input": [
      "class MedalCounting:\n",
      "    def __init__(self, medals_data):\n",
      "        self.medals_data = medals_data\n",
      "    \n",
      "    def num_medals(self, country, year, medal):\n",
      "        for data in self.medals_data:\n",
      "            if data[\"Country\"] == country and data[\"Year\"] == year:\n",
      "                return int(data[medal])\n",
      "        return 0\n",
      "            \n",
      "    def count_all_medals(self, country, year):\n",
      "        return self.num_medals(country, year, \"Gold Medals\") + \\\n",
      "            self.num_medals(country, year, \"Silver Medals\") + \\\n",
      "            self.num_medals(country, year, \"Bronze Medals\")\n",
      "    \n",
      "counter = MedalCounting(raw_medals_data)\n",
      "print \"Germany won %d medals total in 2012\" % counter.count_all_medals(\"Germany\", \"2012\")"
     ],
     "language": "python",
     "metadata": {},
     "outputs": [
      {
       "output_type": "stream",
       "stream": "stdout",
       "text": [
        "Germany won 94 medals total in 2012\n"
       ]
      }
     ],
     "prompt_number": 46
    },
    {
     "cell_type": "code",
     "collapsed": false,
     "input": [
      "class MedalCounting:\n",
      "    def __init__(self, medals_data):\n",
      "        self.medals_data = medals_data\n",
      "    \n",
      "    def num_medals(self, country, year, medal):\n",
      "        for data in self.medals_data:\n",
      "            if data[\"Country\"] == country and data[\"Year\"] == year:\n",
      "                return int(data[medal])\n",
      "        return 0\n",
      "            \n",
      "    def count_medals(self, country, year):\n",
      "        return self.num_medals(country, year, \"Gold Medals\") + \\\n",
      "            self.num_medals(country, year, \"Silver Medals\") + \\\n",
      "            self.num_medals(country, year, \"Bronze Medals\")\n",
      "            \n",
      "    def list_years(self):\n",
      "        years = set()\n",
      "        for data in self.medals_data:\n",
      "            years.add(data[\"Year\"])\n",
      "        return years\n",
      "    \n",
      "counter = MedalCounting(raw_medals_data)\n",
      "print \"The dataset contains data for the years %s\" % counter.list_years()"
     ],
     "language": "python",
     "metadata": {},
     "outputs": [
      {
       "output_type": "stream",
       "stream": "stdout",
       "text": [
        "The dataset contains data for the years set(['2002', '2000', '2006', '2004', '2008', '2010', '2012'])\n"
       ]
      }
     ],
     "prompt_number": 43
    },
    {
     "cell_type": "code",
     "collapsed": false,
     "input": [
      "class MedalCounting:\n",
      "    def __init__(self, medals_data):\n",
      "        self.medals_data = medals_data\n",
      "    \n",
      "    def num_medals(self, country, year, medal):\n",
      "        for data in self.medals_data:\n",
      "            if data[\"Country\"] == country and data[\"Year\"] == year:\n",
      "                return int(data[medal])\n",
      "            \n",
      "        return 0\n",
      "            \n",
      "    def count_all_medals(self, country, year):\n",
      "        return self.num_medals(country, year, \"Gold Medals\") + \\\n",
      "            self.num_medals(country, year, \"Silver Medals\") + \\\n",
      "            self.num_medals(country, year, \"Bronze Medals\")\n",
      "            \n",
      "    def list_years(self):\n",
      "        years = set()\n",
      "        for data in self.medals_data:\n",
      "            years.add(data[\"Year\"])\n",
      "        return years\n",
      "    \n",
      "    def total_medals_won_by_country(self, country):\n",
      "        total_medals = 0\n",
      "        for year in self.list_years():\n",
      "            total_medals += self.count_all_medals(country, year)\n",
      "        return total_medals\n",
      "    \n",
      "counter = MedalCounting(raw_medals_data)\n",
      "print \"Ireland won %d medals over all years in the dataset\" % counter.total_medals_won_by_country(\"Ireland\")\n",
      "print \"Great Britain won %d medals over all years in the dataset\" % counter.total_medals_won_by_country(\"Great Britain\")\n",
      "print \"Greece won %d medals over all years in the dataset\" % counter.total_medals_won_by_country(\"Greece\")\n",
      "print \"Hungary won %d medals over all years in the dataset\" % counter.total_medals_won_by_country(\"Hungary\")"
     ],
     "language": "python",
     "metadata": {},
     "outputs": [
      {
       "output_type": "stream",
       "stream": "stdout",
       "text": [
        "Ireland won 9 medals over all years in the dataset\n",
        "Great Britain won 322 medals over all years in the dataset\n",
        "Greece won 59 medals over all years in the dataset\n",
        "Hungary won 145 medals over all years in the dataset\n"
       ]
      }
     ],
     "prompt_number": 54
    },
    {
     "cell_type": "markdown",
     "metadata": {},
     "source": [
      "### Exercises\n",
      "\n",
      "* Add a method to count the number of silver medals awarded to a country\n",
      "  * How many silver medals were won by Brazil in 2012?\n",
      "* Add a function to list all the countries\n",
      "  * How many countries are there total in the dataset\n",
      "* Add a function to count all medals awarded in a given year\n",
      "  * How many medals were awarded in 2000?\n",
      "  * In 2012?\n",
      "* How many medals were awarded total?\n",
      "* Challenge: We could vastly improve our counting by doing all the counting in a single pass over the data.  Use the template below to implement a more efficent counting method"
     ]
    },
    {
     "cell_type": "code",
     "collapsed": false,
     "input": [
      "class MedalCounting:\n",
      "    def __init__(self, medals_data):\n",
      "        self.medals_data = medals_data\n",
      "    \n",
      "    def count_medals(self, country, years, medals):\n",
      "        num_medals = 0\n",
      "        for data in self.medals_data:\n",
      "            if data[\"Country\"] == country and data[\"Year\"] in years:\n",
      "                for medal in medals:\n",
      "                    num_medals += int(data[medal])\n",
      "                    \n",
      "        return num_medals\n",
      "    \n",
      "    def num_medals(self, country, year, medal):\n",
      "        for data in self.medals_data:\n",
      "            if data[\"Country\"] == country and data[\"Year\"] == year:\n",
      "                return int(data[medal])\n",
      "            \n",
      "        return 0\n",
      "            \n",
      "    def count_all_medals(self, country, year):\n",
      "        return self.num_medals(country, year, \"Gold Medals\") + \\\n",
      "            self.num_medals(country, year, \"Silver Medals\") + \\\n",
      "            self.num_medals(country, year, \"Bronze Medals\")\n",
      "            \n",
      "    def list_years(self):\n",
      "        years = set()\n",
      "        for data in self.medals_data:\n",
      "            years.add(data[\"Year\"])\n",
      "        return years\n",
      "    \n",
      "    def total_medals_won_by_country(self, country):\n",
      "        total_medals = 0\n",
      "        return self.count_medals(country, self.list_years(), [\"Gold Medals\", \"Silver Medals\", \"Bronze Medals\"])\n",
      "\n",
      "counter = MedalCounting(raw_medals_data)\n",
      "print \"Ireland won %d medals over all years in the dataset\" % counter.total_medals_won_by_country(\"Ireland\")"
     ],
     "language": "python",
     "metadata": {},
     "outputs": [
      {
       "output_type": "stream",
       "stream": "stdout",
       "text": [
        "Ireland won 9 medals over all years in the dataset\n"
       ]
      }
     ],
     "prompt_number": 57
    },
    {
     "cell_type": "code",
     "collapsed": false,
     "input": [
      "class MedalCounting:\n",
      "    def __init__(self, medals_data):\n",
      "        self.medals_data = medals_data\n",
      "    \n",
      "    def count_medals(self, countries, years, medals):\n",
      "        num_medals = 0\n",
      "        for data in self.medals_data:\n",
      "            if data[\"Country\"] in countries and data[\"Year\"] in years:\n",
      "                for medal in medals:\n",
      "                    num_medals += int(data[medal])\n",
      "                    \n",
      "        return num_medals\n",
      "            \n",
      "    def count_all_medals(self, country, year):\n",
      "        return self.count_medals([country], [year], [\"Gold Medals\", \"Silver Medals\", \"Bronze Medals\"])\n",
      "    \n",
      "    def count_silver_medals(self, country, year):\n",
      "        return self.count_medals([country], [year], [\"Silver Medals\"])\n",
      " \n",
      "    def total_medals_won_by_country(self, country):\n",
      "        return self.count_medals(country, self.list_years(), [\"Gold Medals\", \"Silver Medals\", \"Bronze Medals\"])\n",
      "        \n",
      "    def total_medals_won_by_year(self, year):\n",
      "        return self.count_medals(self.list_countries(), year, [\"Gold Medals\", \"Silver Medals\", \"Bronze Medals\"])\n",
      "    \n",
      "    def total_medals_awarded(self):\n",
      "        return self.count_medals(self.list_countries(), self.list_years(), [\"Gold Medals\", \"Silver Medals\", \"Bronze Medals\"])\n",
      "    \n",
      "    def list_years(self):\n",
      "        years = set()\n",
      "        for data in self.medals_data:\n",
      "            years.add(data[\"Year\"])\n",
      "        return years\n",
      "    \n",
      "    def list_countries(self):\n",
      "        countries = set()\n",
      "        for data in self.medals_data:\n",
      "            countries.add(data[\"Country\"])\n",
      "        return countries\n",
      "\n",
      "counter = MedalCounting(raw_medals_data)\n",
      "print \"There are %d years in the dataset\" % len(counter.list_years())\n",
      "print \"There are %d total countries in the data set\" % len(counter.list_countries())\n",
      "print \"Ireland won %d medals over all years in the dataset\" % counter.total_medals_won_by_country(\"Ireland\")\n",
      "print \"Brazil won %d silver medals in 2012\" % counter.count_silver_medals(\"Brazil\", \"2012\")\n",
      "print \"There were %d total medals awarded in 2000\" % counter.total_medals_won_by_year(\"2000\")\n",
      "print \"There were %d total medals awarded in 2012\" % counter.total_medals_won_by_year(\"2012\")\n",
      "print \"There were %d total medals awarded over all years in the dataset\" % counter.total_medals_awarded()"
     ],
     "language": "python",
     "metadata": {},
     "outputs": [
      {
       "output_type": "stream",
       "stream": "stdout",
       "text": [
        "There are 7 years in the dataset\n",
        "There are 110 total countries in the data set\n",
        "Ireland won 9 medals over all years in the dataset\n",
        "Brazil won 34 silver medals in 2012\n",
        "There were 2005 total medals awarded in 2000\n",
        "There were 1946 total medals awarded in 2012\n",
        "There were 9529 total medals awarded over all years in the dataset\n"
       ]
      }
     ],
     "prompt_number": 69
    },
    {
     "cell_type": "code",
     "collapsed": false,
     "input": [],
     "language": "python",
     "metadata": {},
     "outputs": []
    }
   ],
   "metadata": {}
  }
 ]
}